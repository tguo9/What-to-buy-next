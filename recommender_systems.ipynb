{
 "cells": [
  {
   "cell_type": "code",
   "execution_count": 1,
   "metadata": {},
   "outputs": [],
   "source": [
    "import os\n",
    "import json\n",
    "import pickle\n",
    "import numpy as np\n",
    "import random\n",
    "import altair as alt\n",
    "import pandas as pd\n",
    "import matplotlib.pyplot as plt\n",
    "from IPython.core.display import display, HTML\n",
    "from scipy.sparse import csr_matrix as sparse_matrix\n",
    "\n",
    "from sklearn.neighbors import NearestNeighbors\n",
    "from sklearn.decomposition import TruncatedSVD"
   ]
  },
  {
   "cell_type": "markdown",
   "metadata": {},
   "source": [
    "[Amazon product data set](http://jmcauley.ucsd.edu/data/amazon/)\n",
    "\n",
    "> Ups and downs: Modeling the visual evolution of fashion trends with one-class collaborative filtering.\n",
    "> R. He, J. McAuley.\n",
    "> WWW, 2016.\n",
    "> \n",
    "> Image-based recommendations on styles and substitutes.\n",
    "> J. McAuley, C. Targett, J. Shi, A. van den Hengel.\n",
    "> SIGIR, 2015.\n",
    "\n",
    "[ratings](http://snap.stanford.edu/data/amazon/productGraph/categoryFiles/ratings_Patio_Lawn_and_Garden.csv)"
   ]
  },
  {
   "cell_type": "code",
   "execution_count": 2,
   "metadata": {},
   "outputs": [
    {
     "data": {
      "text/html": [
       "<div>\n",
       "<style scoped>\n",
       "    .dataframe tbody tr th:only-of-type {\n",
       "        vertical-align: middle;\n",
       "    }\n",
       "\n",
       "    .dataframe tbody tr th {\n",
       "        vertical-align: top;\n",
       "    }\n",
       "\n",
       "    .dataframe thead th {\n",
       "        text-align: right;\n",
       "    }\n",
       "</style>\n",
       "<table border=\"1\" class=\"dataframe\">\n",
       "  <thead>\n",
       "    <tr style=\"text-align: right;\">\n",
       "      <th></th>\n",
       "      <th>user</th>\n",
       "      <th>item</th>\n",
       "      <th>rating</th>\n",
       "      <th>timestamp</th>\n",
       "    </tr>\n",
       "  </thead>\n",
       "  <tbody>\n",
       "    <tr>\n",
       "      <th>0</th>\n",
       "      <td>A2VNYWOPJ13AFP</td>\n",
       "      <td>0981850006</td>\n",
       "      <td>5.0</td>\n",
       "      <td>1259798400</td>\n",
       "    </tr>\n",
       "    <tr>\n",
       "      <th>1</th>\n",
       "      <td>A20DWVV8HML3AW</td>\n",
       "      <td>0981850006</td>\n",
       "      <td>5.0</td>\n",
       "      <td>1371081600</td>\n",
       "    </tr>\n",
       "    <tr>\n",
       "      <th>2</th>\n",
       "      <td>A3RVP3YBYYOPRH</td>\n",
       "      <td>0981850006</td>\n",
       "      <td>5.0</td>\n",
       "      <td>1257984000</td>\n",
       "    </tr>\n",
       "    <tr>\n",
       "      <th>3</th>\n",
       "      <td>A28XY55TP3Q90O</td>\n",
       "      <td>0981850006</td>\n",
       "      <td>5.0</td>\n",
       "      <td>1314144000</td>\n",
       "    </tr>\n",
       "    <tr>\n",
       "      <th>4</th>\n",
       "      <td>A3VZW1BGUQO0V3</td>\n",
       "      <td>0981850006</td>\n",
       "      <td>5.0</td>\n",
       "      <td>1308268800</td>\n",
       "    </tr>\n",
       "  </tbody>\n",
       "</table>\n",
       "</div>"
      ],
      "text/plain": [
       "             user        item  rating   timestamp\n",
       "0  A2VNYWOPJ13AFP  0981850006     5.0  1259798400\n",
       "1  A20DWVV8HML3AW  0981850006     5.0  1371081600\n",
       "2  A3RVP3YBYYOPRH  0981850006     5.0  1257984000\n",
       "3  A28XY55TP3Q90O  0981850006     5.0  1314144000\n",
       "4  A3VZW1BGUQO0V3  0981850006     5.0  1308268800"
      ]
     },
     "execution_count": 2,
     "metadata": {},
     "output_type": "execute_result"
    }
   ],
   "source": [
    "filename = \"ratings_Patio_Lawn_and_Garden.csv\"\n",
    "\n",
    "with open(os.path.join(\"data\", filename), \"rb\") as f:\n",
    "    ratings = pd.read_csv(f, names=(\"user\", \"item\", \"rating\", \"timestamp\"))\n",
    "ratings.head()"
   ]
  },
  {
   "cell_type": "code",
   "execution_count": 3,
   "metadata": {},
   "outputs": [
    {
     "name": "stdout",
     "output_type": "stream",
     "text": [
      "Number of ratings: 993490\n",
      "The average rating: 4.006400668350965\n",
      "Number of users: 714791\n",
      "Number of items: 105984\n",
      "Fraction nonzero: 1.3114269915944552e-05\n",
      "Size of full X matrix (GB): 606.051274752\n"
     ]
    }
   ],
   "source": [
    "def get_stats(ratings, item_key=\"item\", user_key=\"user\"):\n",
    "    print(\"Number of ratings:\", len(ratings))\n",
    "    print(\"The average rating:\", np.mean(ratings[\"rating\"]))\n",
    "\n",
    "    n = len(set(ratings[item_key]))\n",
    "    d = len(set(ratings[user_key]))\n",
    "    print(\"Number of users:\", d)\n",
    "    print(\"Number of items:\", n)\n",
    "    print(\"Fraction nonzero:\", len(ratings)/(n*d))\n",
    "    print(\"Size of full X matrix (GB):\", (n*d)*8/1e9)\n",
    "\n",
    "    return n, d\n",
    "\n",
    "\n",
    "n, d = get_stats(ratings)"
   ]
  },
  {
   "cell_type": "code",
   "execution_count": 4,
   "metadata": {},
   "outputs": [],
   "source": [
    "def create_X(ratings, n, d, user_key=\"user\", item_key=\"item\"):\n",
    "    \"\"\"\n",
    "    Creates a sparse matrix using scipy.csr_matrix and mappers to relate indexes to items' id.\n",
    "    \n",
    "    Parameters:\n",
    "    -----------\n",
    "    ratings: pd.DataFrame\n",
    "        the ratings to be stored in the matrix;\n",
    "    n: int\n",
    "        the number of items\n",
    "    d: int\n",
    "        the number of users\n",
    "    user_key: string\n",
    "        the column in ratings that contains the users id\n",
    "    item_key: string\n",
    "        the column in ratings that contains the items id\n",
    "    \n",
    "    Returns: (X, user_mapper, item_mapper, user_inverse_mapper, item_inverse_mapper, user_ind, item_ind)\n",
    "    --------\n",
    "    X: np.sparse\n",
    "        the sparse matrix containing the ratings.\n",
    "    user_mapper: dict\n",
    "        stores the indexes of the users - the user_id is the key;\n",
    "    item_mapper: dict\n",
    "        stores the indexes of the items - the item_id is the key;\n",
    "    user_inverse_mapper: dict\n",
    "        stores the user id - the user index is the key;\n",
    "    item_inverse_mapper: dict\n",
    "        stores the item id - the item index is the key;\n",
    "    user_ind: list\n",
    "        indexes of the users (in the order they are in ratings);\n",
    "    item_ind: list\n",
    "        indexes of the items;\n",
    "    \"\"\"\n",
    "    \n",
    "    user_mapper = dict(zip(np.unique(ratings[user_key]), list(range(d))))\n",
    "    item_mapper = dict(zip(np.unique(ratings[item_key]), list(range(n))))\n",
    "\n",
    "    user_inverse_mapper = dict(zip(list(range(d)), np.unique(ratings[user_key])))\n",
    "    item_inverse_mapper = dict(zip(list(range(n)), np.unique(ratings[item_key])))\n",
    "\n",
    "    user_ind = [user_mapper[i] for i in ratings[user_key]]\n",
    "    item_ind = [item_mapper[i] for i in ratings[item_key]]\n",
    "\n",
    "    X = sparse_matrix((ratings[\"rating\"], (item_ind, user_ind)), shape=(n,d))\n",
    "    \n",
    "    return X, user_mapper, item_mapper, user_inverse_mapper, item_inverse_mapper, user_ind, item_ind\n",
    "\n",
    "X, user_mapper, item_mapper, user_inverse_mapper, item_inverse_mapper, user_ind, item_ind = create_X(ratings, n, d)"
   ]
  },
  {
   "cell_type": "code",
   "execution_count": 5,
   "metadata": {},
   "outputs": [
    {
     "name": "stdout",
     "output_type": "stream",
     "text": [
      "(105984, 714791)\n",
      "993490\n",
      "Using sparse matrix data structure, the size of X is: 7.94792mb\n"
     ]
    }
   ],
   "source": [
    "# sanity check\n",
    "print(X.shape) # should be number of items by number of users\n",
    "print(X.nnz)   # number of nonzero elements -- should equal number of ratings\n",
    "print(f\"Using sparse matrix data structure, the size of X is: {X.data.nbytes/1e6}mb\")"
   ]
  },
  {
   "cell_type": "code",
   "execution_count": 18,
   "metadata": {},
   "outputs": [],
   "source": [
    "def get_links(index, prefix, mapper):\n",
    "    \n",
    "    get_id = mapper[index]\n",
    "    link = prefix + str(get_id)\n",
    "    display(HTML('<a href=\"%s\">%s</a>' % (link, link)))"
   ]
  },
  {
   "cell_type": "code",
   "execution_count": 19,
   "metadata": {},
   "outputs": [],
   "source": [
    "amz_prefix = 'https://www.amazon.com/dp/'"
   ]
  },
  {
   "cell_type": "code",
   "execution_count": 20,
   "metadata": {},
   "outputs": [
    {
     "name": "stdout",
     "output_type": "stream",
     "text": [
      "The item with the most reviews:\n"
     ]
    },
    {
     "data": {
      "text/html": [
       "<a href=\"https://www.amazon.com/dp/B000HCLLMM\">https://www.amazon.com/dp/B000HCLLMM</a>"
      ],
      "text/plain": [
       "<IPython.core.display.HTML object>"
      ]
     },
     "metadata": {},
     "output_type": "display_data"
    },
    {
     "name": "stdout",
     "output_type": "stream",
     "text": [
      "The item with the most total stars:\n"
     ]
    },
    {
     "data": {
      "text/html": [
       "<a href=\"https://www.amazon.com/dp/B000HCLLMM\">https://www.amazon.com/dp/B000HCLLMM</a>"
      ],
      "text/plain": [
       "<IPython.core.display.HTML object>"
      ]
     },
     "metadata": {},
     "output_type": "display_data"
    },
    {
     "name": "stdout",
     "output_type": "stream",
     "text": [
      "The item with the lowest average stars:\n"
     ]
    },
    {
     "data": {
      "text/html": [
       "<a href=\"https://www.amazon.com/dp/6035000037\">https://www.amazon.com/dp/6035000037</a>"
      ],
      "text/plain": [
       "<IPython.core.display.HTML object>"
      ]
     },
     "metadata": {},
     "output_type": "display_data"
    }
   ],
   "source": [
    "print('The item with the most reviews:')\n",
    "get_links(np.argmax(X.getnnz(axis=1)), amz_prefix, item_inverse_mapper)\n",
    "print('The item with the most total stars:')\n",
    "get_links(np.argmax(np.squeeze(np.asarray(X.sum(axis=1)))), amz_prefix, item_inverse_mapper)\n",
    "print('The item with the lowest average stars:')\n",
    "get_links(np.argmin(np.squeeze(np.asarray(X.sum(axis=1)))/X.getnnz(axis=1)), amz_prefix, item_inverse_mapper)"
   ]
  },
  {
   "cell_type": "code",
   "execution_count": 16,
   "metadata": {},
   "outputs": [],
   "source": [
    "def make_hist(var, xlab, ylab, title):\n",
    "    \n",
    "    plt.hist(var)\n",
    "    plt.yscale('log', nonposy='clip')\n",
    "    plt.xlabel(xlab)\n",
    "    plt.ylabel(ylab)\n",
    "    plt.title(title)"
   ]
  },
  {
   "cell_type": "code",
   "execution_count": 24,
   "metadata": {},
   "outputs": [
    {
     "data": {
      "image/png": "[encoded data removed]",
      "text/plain": [
       "<Figure size 432x288 with 1 Axes>"
      ]
     },
     "metadata": {
      "needs_background": "light"
     },
     "output_type": "display_data"
    }
   ],
   "source": [
    "make_hist(X.getnnz(axis=0), 'Number of Ratings', 'Counts, log Scale', 'Number of Ratings Per User')"
   ]
  },
  {
   "cell_type": "code",
   "execution_count": 25,
   "metadata": {},
   "outputs": [
    {
     "data": {
      "image/png": "[encoded data removed]",
      "text/plain": [
       "<Figure size 432x288 with 1 Axes>"
      ]
     },
     "metadata": {
      "needs_background": "light"
     },
     "output_type": "display_data"
    }
   ],
   "source": [
    "make_hist(X.getnnz(axis=1), 'Number of Ratings', 'Counts, log Scale', 'Number of Ratings Per Item')"
   ]
  },
  {
   "cell_type": "code",
   "execution_count": 26,
   "metadata": {},
   "outputs": [],
   "source": [
    "grill_spatula = \"B00IJB5MCS\"\n",
    "grill_spatula_ind = item_mapper[grill_spatula]\n",
    "grill_spatula_vec = X[grill_spatula_ind]"
   ]
  },
  {
   "cell_type": "code",
   "execution_count": 28,
   "metadata": {},
   "outputs": [],
   "source": [
    "def get_nn_links(X, n_neighbors, metric, start, prefix, mapper):\n",
    "    \n",
    "    indexes = nn_fitter(X, n_neighbors, metric, start)\n",
    "    links = [prefix + mapper[i] for i in indexes]\n",
    "    return indexes, [display(HTML('<a href=\"%s\">%s</a>' % (link, link))) for link in links[1:]]"
   ]
  },
  {
   "cell_type": "code",
   "execution_count": 20,
   "metadata": {},
   "outputs": [],
   "source": [
    "def nn_fitter(X, n_neighbors, metric, start):\n",
    "    \n",
    "    neigh = NearestNeighbors(n_neighbors=n_neighbors, metric=metric)\n",
    "    neigh.fit(X)\n",
    "    indexes = neigh.kneighbors(start)[1][0]\n",
    "    \n",
    "    return indexes"
   ]
  },
  {
   "cell_type": "code",
   "execution_count": 29,
   "metadata": {},
   "outputs": [
    {
     "data": {
      "text/html": [
       "<a href=\"https://www.amazon.com/dp/B00IJB4MLA\">https://www.amazon.com/dp/B00IJB4MLA</a>"
      ],
      "text/plain": [
       "<IPython.core.display.HTML object>"
      ]
     },
     "metadata": {},
     "output_type": "display_data"
    },
    {
     "data": {
      "text/html": [
       "<a href=\"https://www.amazon.com/dp/B00GMXARY8\">https://www.amazon.com/dp/B00GMXARY8</a>"
      ],
      "text/plain": [
       "<IPython.core.display.HTML object>"
      ]
     },
     "metadata": {},
     "output_type": "display_data"
    },
    {
     "data": {
      "text/html": [
       "<a href=\"https://www.amazon.com/dp/B00876SOD4\">https://www.amazon.com/dp/B00876SOD4</a>"
      ],
      "text/plain": [
       "<IPython.core.display.HTML object>"
      ]
     },
     "metadata": {},
     "output_type": "display_data"
    },
    {
     "data": {
      "text/html": [
       "<a href=\"https://www.amazon.com/dp/B00604ZA5K\">https://www.amazon.com/dp/B00604ZA5K</a>"
      ],
      "text/plain": [
       "<IPython.core.display.HTML object>"
      ]
     },
     "metadata": {},
     "output_type": "display_data"
    },
    {
     "data": {
      "text/html": [
       "<a href=\"https://www.amazon.com/dp/B0087CIBQS\">https://www.amazon.com/dp/B0087CIBQS</a>"
      ],
      "text/plain": [
       "<IPython.core.display.HTML object>"
      ]
     },
     "metadata": {},
     "output_type": "display_data"
    },
    {
     "data": {
      "text/html": [
       "<a href=\"https://www.amazon.com/dp/B00605Y348\">https://www.amazon.com/dp/B00605Y348</a>"
      ],
      "text/plain": [
       "<IPython.core.display.HTML object>"
      ]
     },
     "metadata": {},
     "output_type": "display_data"
    }
   ],
   "source": [
    "indexes_eu, _ = get_nn_links(X, 7, 'minkowski', grill_spatula_vec, amz_prefix, item_inverse_mapper)"
   ]
  },
  {
   "cell_type": "code",
   "execution_count": 30,
   "metadata": {},
   "outputs": [
    {
     "data": {
      "text/html": [
       "<a href=\"https://www.amazon.com/dp/B00IJB8F3G\">https://www.amazon.com/dp/B00IJB8F3G</a>"
      ],
      "text/plain": [
       "<IPython.core.display.HTML object>"
      ]
     },
     "metadata": {},
     "output_type": "display_data"
    },
    {
     "data": {
      "text/html": [
       "<a href=\"https://www.amazon.com/dp/B00IJB4MLA\">https://www.amazon.com/dp/B00IJB4MLA</a>"
      ],
      "text/plain": [
       "<IPython.core.display.HTML object>"
      ]
     },
     "metadata": {},
     "output_type": "display_data"
    },
    {
     "data": {
      "text/html": [
       "<a href=\"https://www.amazon.com/dp/B00EF45AHU\">https://www.amazon.com/dp/B00EF45AHU</a>"
      ],
      "text/plain": [
       "<IPython.core.display.HTML object>"
      ]
     },
     "metadata": {},
     "output_type": "display_data"
    },
    {
     "data": {
      "text/html": [
       "<a href=\"https://www.amazon.com/dp/B00CFM0P7Y\">https://www.amazon.com/dp/B00CFM0P7Y</a>"
      ],
      "text/plain": [
       "<IPython.core.display.HTML object>"
      ]
     },
     "metadata": {},
     "output_type": "display_data"
    },
    {
     "data": {
      "text/html": [
       "<a href=\"https://www.amazon.com/dp/B00EF3YF0Y\">https://www.amazon.com/dp/B00EF3YF0Y</a>"
      ],
      "text/plain": [
       "<IPython.core.display.HTML object>"
      ]
     },
     "metadata": {},
     "output_type": "display_data"
    },
    {
     "data": {
      "text/html": [
       "<a href=\"https://www.amazon.com/dp/B00EU1RIVO\">https://www.amazon.com/dp/B00EU1RIVO</a>"
      ],
      "text/plain": [
       "<IPython.core.display.HTML object>"
      ]
     },
     "metadata": {},
     "output_type": "display_data"
    },
    {
     "data": {
      "text/plain": [
       "[None, None, None, None, None, None]"
      ]
     },
     "execution_count": 30,
     "metadata": {},
     "output_type": "execute_result"
    }
   ],
   "source": [
    "neigh = NearestNeighbors(n_neighbors=7, metric='cosine')\n",
    "neigh.fit(X)\n",
    "indexes_cos = neigh.kneighbors(grill_spatula_vec)[1][0]\n",
    "links_cos = ['https://www.amazon.com/dp/' + item_inverse_mapper[i] for i in indexes_cos]\n",
    "[display(HTML('<a href=\"%s\">%s</a>' % (link, link))) for link in links_cos[1:]]"
   ]
  },
  {
   "cell_type": "code",
   "execution_count": 31,
   "metadata": {},
   "outputs": [
    {
     "data": {
      "text/html": [
       "<a href=\"https://www.amazon.com/dp/B00IJB8F3G\">https://www.amazon.com/dp/B00IJB8F3G</a>"
      ],
      "text/plain": [
       "<IPython.core.display.HTML object>"
      ]
     },
     "metadata": {},
     "output_type": "display_data"
    },
    {
     "data": {
      "text/html": [
       "<a href=\"https://www.amazon.com/dp/B00IJB4MLA\">https://www.amazon.com/dp/B00IJB4MLA</a>"
      ],
      "text/plain": [
       "<IPython.core.display.HTML object>"
      ]
     },
     "metadata": {},
     "output_type": "display_data"
    },
    {
     "data": {
      "text/html": [
       "<a href=\"https://www.amazon.com/dp/B00EF45AHU\">https://www.amazon.com/dp/B00EF45AHU</a>"
      ],
      "text/plain": [
       "<IPython.core.display.HTML object>"
      ]
     },
     "metadata": {},
     "output_type": "display_data"
    },
    {
     "data": {
      "text/html": [
       "<a href=\"https://www.amazon.com/dp/B00CFM0P7Y\">https://www.amazon.com/dp/B00CFM0P7Y</a>"
      ],
      "text/plain": [
       "<IPython.core.display.HTML object>"
      ]
     },
     "metadata": {},
     "output_type": "display_data"
    },
    {
     "data": {
      "text/html": [
       "<a href=\"https://www.amazon.com/dp/B00EF3YF0Y\">https://www.amazon.com/dp/B00EF3YF0Y</a>"
      ],
      "text/plain": [
       "<IPython.core.display.HTML object>"
      ]
     },
     "metadata": {},
     "output_type": "display_data"
    },
    {
     "data": {
      "text/html": [
       "<a href=\"https://www.amazon.com/dp/B00EU1RIVO\">https://www.amazon.com/dp/B00EU1RIVO</a>"
      ],
      "text/plain": [
       "<IPython.core.display.HTML object>"
      ]
     },
     "metadata": {},
     "output_type": "display_data"
    }
   ],
   "source": [
    "indexes_cos, _ = get_nn_links(X, 7, 'cosine', grill_spatula_vec, amz_prefix, item_inverse_mapper)"
   ]
  },
  {
   "cell_type": "code",
   "execution_count": 32,
   "metadata": {},
   "outputs": [
    {
     "name": "stdout",
     "output_type": "stream",
     "text": [
      "Euclidean distance: \n",
      "Item: B00IJB4MLA with 205.0 total stars\n",
      "Item: B00GMXARY8 with 1.0 total stars\n",
      "Item: B00876SOD4 with 1.0 total stars\n",
      "Item: B00604ZA5K with 1.0 total stars\n",
      "Item: B0087CIBQS with 1.0 total stars\n",
      "Item: B00605Y348 with 1.0 total stars\n",
      "\n",
      "Cosine similarity: \n",
      "Item: B00IJB8F3G with 438.0 total stars\n",
      "Item: B00IJB4MLA with 205.0 total stars\n",
      "Item: B00EF45AHU with 311.0 total stars\n",
      "Item: B00CFM0P7Y with 1244.0 total stars\n",
      "Item: B00EF3YF0Y with 513.0 total stars\n",
      "Item: B00EU1RIVO with 43.0 total stars\n"
     ]
    }
   ],
   "source": [
    "total_stars = np.squeeze(np.asarray(X.sum(axis=1)))\n",
    "print('Euclidean distance: ')\n",
    "for i in indexes_eu[1:]:\n",
    "    print('Item:', item_inverse_mapper[i], 'with', total_stars[i], 'total stars')\n",
    "\n",
    "print()\n",
    "\n",
    "print('Cosine similarity: ')\n",
    "\n",
    "for i in indexes_cos[1:]:\n",
    "    print('Item:', item_inverse_mapper[i], 'with', total_stars[i], 'total stars')"
   ]
  },
  {
   "cell_type": "code",
   "execution_count": 33,
   "metadata": {},
   "outputs": [],
   "source": [
    "def get_stars(total_stars, indexes, mapper):\n",
    "    \n",
    "    for i in indexes[1:]:\n",
    "        print('Item:', mapper[i], 'with', total_stars[i], 'total stars')"
   ]
  },
  {
   "cell_type": "code",
   "execution_count": 34,
   "metadata": {},
   "outputs": [],
   "source": [
    "total_stars = np.squeeze(np.asarray(X.sum(axis=1)))"
   ]
  },
  {
   "cell_type": "code",
   "execution_count": 35,
   "metadata": {},
   "outputs": [
    {
     "name": "stdout",
     "output_type": "stream",
     "text": [
      "Euclidean distance: \n",
      "Item: B00IJB4MLA with 205.0 total stars\n",
      "Item: B00GMXARY8 with 1.0 total stars\n",
      "Item: B00876SOD4 with 1.0 total stars\n",
      "Item: B00604ZA5K with 1.0 total stars\n",
      "Item: B0087CIBQS with 1.0 total stars\n",
      "Item: B00605Y348 with 1.0 total stars\n"
     ]
    }
   ],
   "source": [
    "print('Euclidean distance: ')\n",
    "get_stars(total_stars, indexes_eu, item_inverse_mapper)"
   ]
  },
  {
   "cell_type": "code",
   "execution_count": 36,
   "metadata": {},
   "outputs": [
    {
     "name": "stdout",
     "output_type": "stream",
     "text": [
      "Cosine similarity: \n",
      "Item: B00IJB8F3G with 438.0 total stars\n",
      "Item: B00IJB4MLA with 205.0 total stars\n",
      "Item: B00EF45AHU with 311.0 total stars\n",
      "Item: B00CFM0P7Y with 1244.0 total stars\n",
      "Item: B00EF3YF0Y with 513.0 total stars\n",
      "Item: B00EU1RIVO with 43.0 total stars\n"
     ]
    }
   ],
   "source": [
    "print('Cosine similarity: ')\n",
    "get_stars(total_stars, indexes_cos, item_inverse_mapper)"
   ]
  },
  {
   "cell_type": "code",
   "execution_count": 39,
   "metadata": {},
   "outputs": [],
   "source": [
    "def transform(X, n_components, vec):\n",
    "    \n",
    "    svd = TruncatedSVD(n_components=n_components)\n",
    "    Z = svd.fit_transform(X)\n",
    "    transed = svd.transform(vec)\n",
    "    \n",
    "    return Z, transed"
   ]
  },
  {
   "cell_type": "code",
   "execution_count": 40,
   "metadata": {},
   "outputs": [],
   "source": [
    "Z, transed_grill = transform(X, 10, grill_spatula_vec)"
   ]
  },
  {
   "cell_type": "code",
   "execution_count": 41,
   "metadata": {},
   "outputs": [
    {
     "data": {
      "text/html": [
       "<a href=\"https://www.amazon.com/dp/B00IJB8F3G\">https://www.amazon.com/dp/B00IJB8F3G</a>"
      ],
      "text/plain": [
       "<IPython.core.display.HTML object>"
      ]
     },
     "metadata": {},
     "output_type": "display_data"
    },
    {
     "data": {
      "text/html": [
       "<a href=\"https://www.amazon.com/dp/B00C5RS7A6\">https://www.amazon.com/dp/B00C5RS7A6</a>"
      ],
      "text/plain": [
       "<IPython.core.display.HTML object>"
      ]
     },
     "metadata": {},
     "output_type": "display_data"
    },
    {
     "data": {
      "text/html": [
       "<a href=\"https://www.amazon.com/dp/B002CAB2KS\">https://www.amazon.com/dp/B002CAB2KS</a>"
      ],
      "text/plain": [
       "<IPython.core.display.HTML object>"
      ]
     },
     "metadata": {},
     "output_type": "display_data"
    },
    {
     "data": {
      "text/html": [
       "<a href=\"https://www.amazon.com/dp/B004IEBUBW\">https://www.amazon.com/dp/B004IEBUBW</a>"
      ],
      "text/plain": [
       "<IPython.core.display.HTML object>"
      ]
     },
     "metadata": {},
     "output_type": "display_data"
    },
    {
     "data": {
      "text/html": [
       "<a href=\"https://www.amazon.com/dp/B0012XS33K\">https://www.amazon.com/dp/B0012XS33K</a>"
      ],
      "text/plain": [
       "<IPython.core.display.HTML object>"
      ]
     },
     "metadata": {},
     "output_type": "display_data"
    },
    {
     "data": {
      "text/html": [
       "<a href=\"https://www.amazon.com/dp/B007PZ4ILK\">https://www.amazon.com/dp/B007PZ4ILK</a>"
      ],
      "text/plain": [
       "<IPython.core.display.HTML object>"
      ]
     },
     "metadata": {},
     "output_type": "display_data"
    }
   ],
   "source": [
    "indexes_svd, _ = get_nn_links(Z, 7, 'euclidean', transed_grill, amz_prefix, item_inverse_mapper)"
   ]
  },
  {
   "cell_type": "code",
   "execution_count": 42,
   "metadata": {},
   "outputs": [
    {
     "name": "stdout",
     "output_type": "stream",
     "text": [
      "Item: B00IJB8F3G with 438.0 total stars\n",
      "Item: B00C5RS7A6 with 39.0 total stars\n",
      "Item: B002CAB2KS with 57.0 total stars\n",
      "Item: B004IEBUBW with 47.0 total stars\n",
      "Item: B0012XS33K with 198.0 total stars\n",
      "Item: B007PZ4ILK with 274.0 total stars\n"
     ]
    }
   ],
   "source": [
    "get_stars(total_stars, indexes_svd, item_inverse_mapper)"
   ]
  },
  {
   "cell_type": "code",
   "execution_count": 103,
   "metadata": {},
   "outputs": [
    {
     "name": "stdout",
     "output_type": "stream",
     "text": [
      "n_components= 10\n",
      "Independence Day (a.k.a. ID4) (1996) total stars: 696.0\n",
      "Back to the Future (1985) total stars: 690.5\n",
      "Jurassic Park (1993) total stars: 892.5\n",
      "Aladdin (1992) total stars: 694.0\n",
      "Mission: Impossible (1996) total stars: 573.0\n",
      "Groundhog Day (1993) total stars: 564.0\n",
      "\n",
      "n_components= 50\n",
      "Toy Story 2 (1999) total stars: 374.5\n",
      "Independence Day (a.k.a. ID4) (1996) total stars: 696.0\n",
      "Willy Wonka & the Chocolate Factory (1971) total stars: 461.0\n",
      "Groundhog Day (1993) total stars: 564.0\n",
      "Mission: Impossible (1996) total stars: 573.0\n",
      "Back to the Future (1985) total stars: 690.5\n",
      "\n",
      "n_components= 100\n",
      "Mission: Impossible (1996) total stars: 573.0\n",
      "Toy Story 2 (1999) total stars: 374.5\n",
      "Independence Day (a.k.a. ID4) (1996) total stars: 696.0\n",
      "Twister (1996) total stars: 408.5\n",
      "Willy Wonka & the Chocolate Factory (1971) total stars: 461.0\n",
      "Mask, The (1994) total stars: 500.0\n",
      "\n",
      "n_components= 200\n",
      "Toy Story 2 (1999) total stars: 374.5\n",
      "Independence Day (a.k.a. ID4) (1996) total stars: 696.0\n",
      "Mission: Impossible (1996) total stars: 573.0\n",
      "Mask, The (1994) total stars: 500.0\n",
      "Babe (1995) total stars: 467.5\n",
      "Nutty Professor, The (1996) total stars: 224.0\n",
      "\n",
      "n_components= 300\n",
      "Toy Story 2 (1999) total stars: 374.5\n",
      "Mission: Impossible (1996) total stars: 573.0\n",
      "Independence Day (a.k.a. ID4) (1996) total stars: 696.0\n",
      "Babe (1995) total stars: 467.5\n",
      "Bug's Life, A (1998) total stars: 323.5\n",
      "Nutty Professor, The (1996) total stars: 224.0\n",
      "\n"
     ]
    }
   ],
   "source": [
    "for i in [10, 50, 100, 200, 300]:\n",
    "    print('n_components=', i)\n",
    "    movie_Z, transed_movie = transform(movie_X, i, toy_story_vec)\n",
    "    index_movie_trans = nn_fitter(movie_Z, 7, 'euclidean', transed_movie)\n",
    "    \n",
    "    movies = [movie_info.loc[movie_inverse_mapper[i]][0] for i in index_movie_trans[1:]]\n",
    "    movie_stars = np.asarray(movie_X[index_movie_trans].sum(axis=1)[1:]).flatten()\n",
    "\n",
    "    for m, s in zip(movies, movie_stars):\n",
    "    \n",
    "        print(m, 'total stars:',s)\n",
    "        \n",
    "    print()"
   ]
  },
  {
   "cell_type": "code",
   "execution_count": 14,
   "metadata": {},
   "outputs": [],
   "source": [
    "svd21 = TruncatedSVD(n_components=10)\n",
    "Z21 = svd21.fit_transform(movie_X)\n",
    "re21 = svd21.inverse_transform(Z21[0,:].reshape(1, 10))"
   ]
  },
  {
   "cell_type": "code",
   "execution_count": 15,
   "metadata": {},
   "outputs": [
    {
     "data": {
      "text/plain": [
       "3.206149566966723"
      ]
     },
     "execution_count": 15,
     "metadata": {},
     "output_type": "execute_result"
    }
   ],
   "source": [
    "re21[0, 5]"
   ]
  },
  {
   "cell_type": "code",
   "execution_count": 14,
   "metadata": {},
   "outputs": [],
   "source": [
    "svd312 = TruncatedSVD(n_components=10)\n",
    "Z312 = svd312.fit_transform(X)\n",
    "re312 = svd312.inverse_transform(Z312[9,:].reshape(1, 10))"
   ]
  },
  {
   "cell_type": "code",
   "execution_count": 15,
   "metadata": {},
   "outputs": [
    {
     "data": {
      "text/plain": [
       "2.9347760657819253e-21"
      ]
     },
     "execution_count": 15,
     "metadata": {},
     "output_type": "execute_result"
    }
   ],
   "source": [
    "re312[0, 5]"
   ]
  }
 ],
 "metadata": {
  "anaconda-cloud": {},
  "kernelspec": {
   "display_name": "Python 3",
   "language": "python",
   "name": "python3"
  },
  "language_info": {
   "codemirror_mode": {
    "name": "ipython",
    "version": 3
   },
   "file_extension": ".py",
   "mimetype": "text/x-python",
   "name": "python",
   "nbconvert_exporter": "python",
   "pygments_lexer": "ipython3",
   "version": "3.7.6"
  }
 },
 "nbformat": 4,
 "nbformat_minor": 4
}
